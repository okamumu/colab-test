{
  "nbformat": 4,
  "nbformat_minor": 0,
  "metadata": {
    "colab": {
      "name": "exercise1.ipynb",
      "provenance": [],
      "collapsed_sections": []
    },
    "kernelspec": {
      "name": "python3",
      "display_name": "Python 3"
    },
    "language_info": {
      "name": "python"
    }
  },
  "cells": [
    {
      "cell_type": "markdown",
      "metadata": {
        "id": "H8PxveNfDq5w"
      },
      "source": [
        "# Lesson 1: コンパイルと実行\n",
        "\n",
        "### 解説\n",
        "\n",
        "- プログラムのコンパイルとは\n",
        "  - 人間がわかりやすい言語（プログラミング言語）からコンピュータが実行できる言語へ翻訳\n",
        "- ソースファイル： プログラミング言語を記述した**テキストファイル**\n",
        "- 実行ファイル: ソースファイルのコンパイルを通じて作成される実行可能な**バイナリファイル**\n",
        "\n",
        "### C言語のコンパイルと実行\n",
        "\n",
        "```sh\n",
        "gcc [ソースファイル名] -o [生成する実行ファイル名]\n",
        "```\n",
        "\n",
        "```sh\n",
        "./[実行ファイル名]\n",
        "```\n",
        "\n",
        "### Google Colab 上でのコンパイルと実行\n",
        "\n",
        "- ソースファイルの作成 `%%writefile [ファイル名]` によりセルに記述した内容を記述したファイル（ソースファイル）を作成する\n",
        "- コンパイル `%%bash` を利用して `gcc ...` コマンドを実行\n",
        "- 実行 `%%bash` を利用して `./[実行ファイル]` として実行\n",
        "\n",
        "※Google Colab はあくまで Python を実行する環境なので上記はある意味裏技です．\n"
      ]
    },
    {
      "cell_type": "markdown",
      "metadata": {
        "id": "RLPdrRhFFLUx"
      },
      "source": [
        "### Exercise 1-1"
      ]
    },
    {
      "cell_type": "markdown",
      "metadata": {
        "id": "-zEGjjaOD6TQ"
      },
      "source": [
        "1. `%%writefile ex11.c` を利用して `ex11.c` を作成しよう\n",
        "2. 左の「ファイル」ボタンを押して `ex11.c` が作成されていることを確認\n",
        "3. `%%bash` を利用して `ex11.c` をコンパイル\n",
        "4. `ex11.c` にあるコンパイルエラーを直す\n",
        "5. `%%bash` を利用して生成した実行ファイルを実行\n"
      ]
    },
    {
      "cell_type": "code",
      "metadata": {
        "colab": {
          "base_uri": "https://localhost:8080/"
        },
        "id": "RRUxh9vKA7Mb",
        "outputId": "5266aae3-152c-4566-ac73-306819fc0d69"
      },
      "source": [
        "%%writefile ex11.c\n",
        "\n",
        "#include <stdio.h>\n",
        "\n",
        "int main() {\n",
        "    printf(\"Hello world\\n\")\n",
        "}\n"
      ],
      "execution_count": 13,
      "outputs": [
        {
          "output_type": "stream",
          "name": "stdout",
          "text": [
            "Writing ex11.c\n"
          ]
        }
      ]
    },
    {
      "cell_type": "code",
      "metadata": {
        "colab": {
          "base_uri": "https://localhost:8080/"
        },
        "id": "_fQ-om7FBT34",
        "outputId": "ab49dce7-2cd5-44d0-9223-6185637bdaf2"
      },
      "source": [
        "%%bash\n",
        "gcc ex11.c -o ex11 \\\n",
        "  && echo \"compile OK\""
      ],
      "execution_count": 14,
      "outputs": [
        {
          "output_type": "stream",
          "name": "stderr",
          "text": [
            "ex11.c: In function ‘main’:\n",
            "ex11.c:6:1: error: expected ‘;’ before ‘}’ token\n",
            " }\n",
            " ^\n"
          ]
        }
      ]
    },
    {
      "cell_type": "code",
      "metadata": {
        "colab": {
          "base_uri": "https://localhost:8080/"
        },
        "id": "lcBwrPqxBhFw",
        "outputId": "e878d8aa-ac0e-46ec-c38a-93f3098efada"
      },
      "source": [
        "%%bash\n",
        "./ex11"
      ],
      "execution_count": 15,
      "outputs": [
        {
          "output_type": "stream",
          "name": "stderr",
          "text": [
            "bash: line 1: ./ex11: No such file or directory\n"
          ]
        }
      ]
    },
    {
      "cell_type": "markdown",
      "metadata": {
        "id": "wOjTDWFhHk-B"
      },
      "source": [
        "# Lesson 2: 型/値\n",
        "\n",
        "### 解説\n",
        "\n",
        "- 型：コンピュータで扱える値の種類\n",
        "- 一般的には4種類\n",
        "  - 整数値\n",
        "  - 小数値\n",
        "  - 文字\n",
        "  - 真偽値\n",
        "\n",
        "### なんで分類しないといけないの？\n",
        "\n",
        "- コンピュータ内で値を表現する方式が違うため\n",
        "  - 「１円+１ドル」は表現する方式（？）が違うため足し算できない\n",
        "  - 「1ドル＝100円より101円」のようにどちらかの表現にあわせる\n",
        "\n",
        "### C言語における型\n",
        "\n",
        "- 覚える必要がある型\n",
        "  - `int`: 整数と真偽値を表す型．　 `0, 1, 2, -1, ...`\n",
        "  - `float`, `double`: 小数を表す型 `1.0, 0.5, -0.4, ...`\n",
        "  - `char`: 1文字を表す型 `'a', 'b', ...`\n",
        "- 型と表示（フォーマット）の対応\n",
        "  - `%d`: int型\n",
        "  - `%f`: float, double型\n",
        "  - `%c`: char型"
      ]
    },
    {
      "cell_type": "markdown",
      "metadata": {
        "id": "V9QXjUdBHLKr"
      },
      "source": [
        "### Exercise 2-1\n",
        "\n",
        "それぞれの型を表示してみる\n"
      ]
    },
    {
      "cell_type": "code",
      "metadata": {
        "id": "VOR1Nc51HgHL",
        "colab": {
          "base_uri": "https://localhost:8080/"
        },
        "outputId": "4c5a1e72-b94e-4ba4-eee8-433695f69d49"
      },
      "source": [
        "%%writefile ex21.c\n",
        "\n",
        "#include <stdio.h>\n",
        "\n",
        "int main() {\n",
        "    printf(\"int %d\\n\", 1);  // int型は小数点を使わずに記述\n",
        "    printf(\"int %d\\n\", -1);  // マイナスがあっても小数点がなければ整数\n",
        "    printf(\"float/double %f\\n\", 1.0);  // 値が1でも小数点をつかって 1.0 と表すと float/double 型\n",
        "    printf(\"char %c\\n\", 'a');  // 1文字はシングルクオーテーションで挟む\n",
        "}"
      ],
      "execution_count": 10,
      "outputs": [
        {
          "output_type": "stream",
          "name": "stdout",
          "text": [
            "Writing ex21.c\n"
          ]
        }
      ]
    },
    {
      "cell_type": "code",
      "metadata": {
        "colab": {
          "base_uri": "https://localhost:8080/"
        },
        "id": "uRa8h1bLI5iR",
        "outputId": "0aae96dd-6123-420d-a284-b9a21b90163f"
      },
      "source": [
        "%%bash\n",
        "gcc ex21.c -o ex21 \\\n",
        "  && echo \"compile OK\""
      ],
      "execution_count": 11,
      "outputs": [
        {
          "output_type": "stream",
          "name": "stdout",
          "text": [
            "compile OK\n"
          ]
        }
      ]
    },
    {
      "cell_type": "code",
      "metadata": {
        "colab": {
          "base_uri": "https://localhost:8080/"
        },
        "id": "UJXmqHFyI9o-",
        "outputId": "c90ee04b-5af6-48ed-a2c7-f3bee0666e35"
      },
      "source": [
        "%%bash\n",
        "./ex21"
      ],
      "execution_count": 12,
      "outputs": [
        {
          "output_type": "stream",
          "name": "stdout",
          "text": [
            "int 1\n",
            "int -1\n",
            "float/double 1.000000\n",
            "char a\n"
          ]
        }
      ]
    },
    {
      "cell_type": "markdown",
      "metadata": {
        "id": "2-nZywJiLaZt"
      },
      "source": [
        "# Lesson 3: 演算子\n",
        "\n",
        "### 解説\n",
        "\n",
        "- 数学で見かける演算\n",
        "  - 四則演算: 足し算，引き算，かけ算，割り算\n",
        "  - 比較演算: 大小比較，同値比較\n",
        "- プログラミングで使うちょっと特殊な演算\n",
        "  - 四則演算関係: 整数除算，剰余\n",
        "  - 論理演算: AND, OR, NOT\n",
        "- プログラミングで使うかなり特殊な演算\n",
        "  - 代入演算，ポインタ演算，アドレス演算，etc.\n",
        "\n",
        "### 理解すべき演算と書き方\n",
        "\n",
        "##### 四則演算系\n",
        "\n",
        "- `+` 足し算: 5 + 4\n",
        "- `-` 引き算: 3 - 5\n",
        "- `*` かけ算: 4 * 6\n",
        "- `/` 整数除算: 10 / 3（答えは3になる）\n",
        "- `/` 割り算: 10.0 / 3.0（答えは3.33333..になる）\n",
        "- `%` 剰余: 14 % 3（答えは2になる）\n",
        "\n",
        "##### 比較演算系\n",
        "\n",
        "※計算結果は真偽値（成り立っている，成り立っていない）\n",
        "\n",
        "- `>` 大なり: 5 > 7\n",
        "- `>=` 大なりイコール: 5 >= 2（`=>`のように順番を変えてはダメ）\n",
        "- `<` 小なり: 5 < 7\n",
        "- `<=` 小なりイコール: 5 <= 2（`=<`のように順番を変えてはダメ）\n",
        "- `==` イコール: 5 == 7\n",
        "- `!=` Notイコール: 5 != 7（`=!`のように順番を変えてはダメ）\n",
        "\n",
        "##### 論理演算\n",
        "\n",
        "※単純な比較演算子で表すことができない条件を表す\n",
        "\n",
        "- `&&` AND条件: `&&` の両側にある条件の両方が成り立っていたら成り立つ\n",
        "- `||` OR条件: `||` の両側にある条件の少なくとも一方が成り立っていたら成り立つ\n",
        "- `!` NOT条件: `!` 直後にある条件が成り立っていなかったら成り立つ\n",
        "\n",
        "例: 3から５の間　=> `3 <= x <= 5` とは書けない！　`(x >= 3) && (x <= 5)` と書く必要がある\n",
        "\n",
        "##### その他\n",
        "\n",
        "- その他の演算子については後述"
      ]
    },
    {
      "cell_type": "markdown",
      "metadata": {
        "id": "Ywt4q1qSQaAj"
      },
      "source": [
        "### Exercise 3-1\n",
        "\n",
        "演算結果を表示してみる"
      ]
    },
    {
      "cell_type": "code",
      "metadata": {
        "colab": {
          "base_uri": "https://localhost:8080/"
        },
        "id": "TqjFwlopR7Q5",
        "outputId": "c1928447-c0b6-40b1-f3d3-0692c4ce1103"
      },
      "source": [
        "%%writefile ex31.c\n",
        "\n",
        "#include <stdio.h>\n",
        "\n",
        "int main() {\n",
        "    printf(\"3 + 4 = %d\\n\", 3 + 4); // 原則型が同じものを演算する．型が違うものを演算する場合には「型変換ルール」が適用される（ここでは扱わない）\n",
        "    printf(\"3 - 4 = %d\\n\", 3 - 4);\n",
        "    printf(\"3 * 4 = %d\\n\", 3 * 4);\n",
        "    printf(\"10 / 3 = %d\\n\", 10 / 3); // 整数値同士の除算は整数除算（割り算で言う「商」の部分）となる\n",
        "    printf(\"10.0 / 3.0 = %f\\n\", 10.0 / 3.0); // float/double同士の除算は数学で言うところの普通の除算となる． %f を使っているところに注意\n",
        "\n",
        "    printf(\"3 > 2 の結果 %d\\n\", 3 > 2);  // 真偽値が整数値で返る点に注意． 一般に 0 が成り立っていない， 1が成り立っているとして扱う\n",
        "    printf(\"3 < 2 の結果 %d\\n\", 3 < 2);  // 真偽値が整数値で返る点に注意． 一般に 0 が成り立っていない， 1が成り立っているとして扱う\n",
        "\n",
        "    printf(\"(-2 < 0) && (0 < 1) の結果　%d\\n\", (-2 < 0) && (0 < 1));\n",
        "    printf(\"-2 < 0 < 1 の結果　%d\\n\", -2 < 0 < 1); // 計算はできるけど結果がおかしい？なぜでしょうか？（かなりの発展問題なので現時点でわからなくてもOKです）\n",
        "}"
      ],
      "execution_count": 28,
      "outputs": [
        {
          "output_type": "stream",
          "name": "stdout",
          "text": [
            "Overwriting ex31.c\n"
          ]
        }
      ]
    },
    {
      "cell_type": "code",
      "metadata": {
        "colab": {
          "base_uri": "https://localhost:8080/"
        },
        "id": "17EmS2d9Tlb8",
        "outputId": "3be3baa3-12b5-4147-e84b-1f65395ea1cd"
      },
      "source": [
        "%%bash\n",
        "gcc ex31.c -o ex31 \\\n",
        "  && echo \"compile OK\""
      ],
      "execution_count": 29,
      "outputs": [
        {
          "output_type": "stream",
          "name": "stdout",
          "text": [
            "compile OK\n"
          ]
        }
      ]
    },
    {
      "cell_type": "code",
      "metadata": {
        "colab": {
          "base_uri": "https://localhost:8080/"
        },
        "id": "9VL_SkCwTo-I",
        "outputId": "6acbdde0-05cb-4d3c-e1e2-5e00ae3832bf"
      },
      "source": [
        "%%bash\n",
        "./ex31"
      ],
      "execution_count": 30,
      "outputs": [
        {
          "output_type": "stream",
          "name": "stdout",
          "text": [
            "3 + 4 = 7\n",
            "3 - 4 = -1\n",
            "3 * 4 = 12\n",
            "10 / 3 = 3\n",
            "10.0 / 3.0 = 3.333333\n",
            "3 > 2 の結果 1\n",
            "3 < 2 の結果 0\n",
            "(-2 < 0) && (0 < 1) の結果　1\n",
            "-2 < 0 < 1 の結果　0\n"
          ]
        }
      ]
    },
    {
      "cell_type": "markdown",
      "metadata": {
        "id": "VvuWcCp-KJ-O"
      },
      "source": [
        "# Lesson 4: 変数\n",
        "\n",
        "### 解説\n",
        "\n",
        "- 変数：値を格納しておく箱\n",
        "- 値の書き換えができる（箱の中の数値を更新できる）\n",
        "\n",
        "### なぜ必要？\n",
        "\n",
        "- 変数の値を書き換える処理を与えることでいろんな問題を解くことができる\n",
        "- 変数を使わない問題 => 1+1, 2+4 程度の計算しかできない\n",
        "- 条件分岐，繰り返しで必ず必要となる\n",
        "\n",
        "### C言語での変数\n",
        "\n",
        "- プログラム内で使う**変数名**と中に入れる**型**を**定義（宣言）**する必要がある\n",
        "- 変数の宣言\n",
        "```\n",
        "[型] [変数名];\n",
        "もしくは\n",
        "[型] [変数名] = [初期値]\n",
        "```\n",
        "- 変数への値の代入：右の値を左の変数に代入（上書き）\n",
        "```\n",
        "[変数名] = [値あるいは変数名]\n",
        "```"
      ]
    },
    {
      "cell_type": "markdown",
      "metadata": {
        "id": "k_EL-XVrJ26Z"
      },
      "source": [
        "### Exercise 4-1\n",
        "\n",
        "変数を使ってみる \n",
        "\n"
      ]
    },
    {
      "cell_type": "code",
      "metadata": {
        "colab": {
          "base_uri": "https://localhost:8080/"
        },
        "id": "PwHBzedcJF9E",
        "outputId": "bae11a11-7719-4723-f3a0-db538499c6c2"
      },
      "source": [
        "%%writefile ex41.c\n",
        "\n",
        "#include <stdio.h>\n",
        "\n",
        "int main() {\n",
        "    int a = 0; // 整数値0を持つaを定義（宣言）\n",
        "    int b = 1;\n",
        "    printf(\"aの中身を表示 %d\\n\", a);\n",
        "    printf(\"bの中身を表示 %d\\n\", b);\n",
        "\n",
        "    a = 100; // a に100を代入\n",
        "    printf(\"aの中身を表示 %d\\n\", a);\n",
        "    printf(\"bの中身を表示 %d\\n\", b);\n",
        "\n",
        "    a = b; // a にbの中身を代入\n",
        "    printf(\"aの中身を表示 %d\\n\", a);\n",
        "    printf(\"bの中身を表示 %d\\n\", b);\n",
        "\n",
        "    b = 99; // b に99を代入\n",
        "    printf(\"aの中身を表示 %d\\n\", a);\n",
        "    printf(\"bの中身を表示 %d\\n\", b);\n",
        "\n",
        "    b = 5 + 34; // b に演算結果を代入\n",
        "    printf(\"aの中身を表示 %d\\n\", a);\n",
        "    printf(\"bの中身を表示 %d\\n\", b);\n",
        "\n",
        "    b = a + 12; // b にaに入っている値を使った演算結果を代入\n",
        "    printf(\"aの中身を表示 %d\\n\", a);\n",
        "    printf(\"bの中身を表示 %d\\n\", b);\n",
        "\n",
        "    b = b + 19; // b にいまのbに入っている値を使った演算結果を代入\n",
        "    printf(\"aの中身を表示 %d\\n\", a);\n",
        "    printf(\"bの中身を表示 %d\\n\", b);\n",
        "}\n"
      ],
      "execution_count": 31,
      "outputs": [
        {
          "output_type": "stream",
          "name": "stdout",
          "text": [
            "Writing ex41.c\n"
          ]
        }
      ]
    },
    {
      "cell_type": "code",
      "metadata": {
        "colab": {
          "base_uri": "https://localhost:8080/"
        },
        "id": "RYCi2csOXSGh",
        "outputId": "d93c48f9-526f-40cb-a19b-d29ee33b6684"
      },
      "source": [
        "%%bash\n",
        "gcc ex41.c -o ex41 \\\n",
        "  && echo \"compile OK\""
      ],
      "execution_count": 32,
      "outputs": [
        {
          "output_type": "stream",
          "name": "stdout",
          "text": [
            "compile OK\n"
          ]
        }
      ]
    },
    {
      "cell_type": "code",
      "metadata": {
        "colab": {
          "base_uri": "https://localhost:8080/"
        },
        "id": "0N_u9GGMXVnd",
        "outputId": "da022b13-0981-43b1-bf74-8eb52378fdd3"
      },
      "source": [
        "%%bash\n",
        "./ex41"
      ],
      "execution_count": 33,
      "outputs": [
        {
          "output_type": "stream",
          "name": "stdout",
          "text": [
            "aの中身を表示 0\n",
            "bの中身を表示 1\n",
            "aの中身を表示 100\n",
            "bの中身を表示 1\n",
            "aの中身を表示 1\n",
            "bの中身を表示 1\n",
            "aの中身を表示 1\n",
            "bの中身を表示 99\n",
            "aの中身を表示 1\n",
            "bの中身を表示 39\n",
            "aの中身を表示 1\n",
            "bの中身を表示 13\n",
            "aの中身を表示 1\n",
            "bの中身を表示 32\n"
          ]
        }
      ]
    },
    {
      "cell_type": "markdown",
      "metadata": {
        "id": "ScsDiYTOXhtV"
      },
      "source": [
        "### Exercise 4-2\n",
        "\n",
        "代入演算子を使ってみる\n",
        "\n",
        "`+=`, `-=`, `*=`, `/=`, `%=` は左にある変数の現在の値と代入演算子の右にある値の演算結果を左にある変数に代入する．\n",
        "- 例えば `a -= 30` は `a = a - 30` に書き換えられる\n",
        "- `++`, `--` はそれぞれ `+= 1`, `-= 1` の書き換えと考えれば良い（`++`, `--` が前にあるか後ろにあるかで厳密には動作が変わるがここではあまり詳細には触れない）"
      ]
    },
    {
      "cell_type": "code",
      "metadata": {
        "colab": {
          "base_uri": "https://localhost:8080/"
        },
        "id": "UCvXnsPYXYnG",
        "outputId": "669a7257-9132-45cf-abd8-c3160a715114"
      },
      "source": [
        "%%writefile ex42.c\n",
        "\n",
        "#include <stdio.h>\n",
        "\n",
        "int main() {\n",
        "    int a = 0; // 整数値0を持つaを定義（宣言）\n",
        "    int b = 1;\n",
        "    printf(\"aの中身を表示 %d\\n\", a);\n",
        "    printf(\"bの中身を表示 %d\\n\", b);\n",
        "\n",
        "    b += 5;\n",
        "    printf(\"aの中身を表示 %d\\n\", a);\n",
        "    printf(\"bの中身を表示 %d\\n\", b);\n",
        "\n",
        "    b -= a;\n",
        "    printf(\"aの中身を表示 %d\\n\", a);\n",
        "    printf(\"bの中身を表示 %d\\n\", b);\n",
        "\n",
        "    a++; // [変数名]++ のように記述する\n",
        "    printf(\"aの中身を表示 %d\\n\", a);\n",
        "    printf(\"bの中身を表示 %d\\n\", b);\n",
        "\n",
        "    ++a; // ++[変数名] のようも記述する（[変数名]++の場合と動作が異なるがここではあまり詳細に触れない）\n",
        "    printf(\"aの中身を表示 %d\\n\", a);\n",
        "    printf(\"bの中身を表示 %d\\n\", b);\n",
        "}\n"
      ],
      "execution_count": 34,
      "outputs": [
        {
          "output_type": "stream",
          "name": "stdout",
          "text": [
            "Writing ex42.c\n"
          ]
        }
      ]
    },
    {
      "cell_type": "code",
      "metadata": {
        "colab": {
          "base_uri": "https://localhost:8080/"
        },
        "id": "Oqklnf8aZNIw",
        "outputId": "0d35220a-b24b-430a-9b10-e1abe00ec007"
      },
      "source": [
        "%%bash\n",
        "gcc ex42.c -o ex42 \\\n",
        "  && echo \"compile OK\""
      ],
      "execution_count": 35,
      "outputs": [
        {
          "output_type": "stream",
          "name": "stdout",
          "text": [
            "compile OK\n"
          ]
        }
      ]
    },
    {
      "cell_type": "code",
      "metadata": {
        "colab": {
          "base_uri": "https://localhost:8080/"
        },
        "id": "1TCF2XTBZQev",
        "outputId": "0388cc7b-6ba2-4eaf-80f8-e3ee1e54eec0"
      },
      "source": [
        "%%bash\n",
        "./ex42"
      ],
      "execution_count": 36,
      "outputs": [
        {
          "output_type": "stream",
          "name": "stdout",
          "text": [
            "aの中身を表示 0\n",
            "bの中身を表示 1\n",
            "aの中身を表示 0\n",
            "bの中身を表示 6\n",
            "aの中身を表示 0\n",
            "bの中身を表示 6\n",
            "aの中身を表示 1\n",
            "bの中身を表示 6\n",
            "aの中身を表示 2\n",
            "bの中身を表示 6\n"
          ]
        }
      ]
    },
    {
      "cell_type": "markdown",
      "metadata": {
        "id": "Cw6Fk690ZSm5"
      },
      "source": [
        "# Lesson 5: 条件分岐\n",
        "\n",
        "### 解説\n",
        "\n",
        "- 条件をチェックして True/False で実行する処理を分ける\n",
        "  - もし「お腹が空いていたら」=>「お弁当を食べる」\n",
        "  - もし「お腹が空いてなかったら」=>「お弁当を食べない」\n",
        "- プログラムでは上記がかなり無機質になる\n",
        "  - もし a=0 だったら c に 1 を足す\n",
        "  - もし a=1 だったら なにも処理しない\n",
        "\n",
        "### C言語での記述\n",
        "\n",
        "##### `if`文\n",
        "\n",
        "- もし`[条件]`を満足していたら `[処理B]` に記述された処理を実行する\n",
        "\n",
        "```\n",
        "[処理A]\n",
        "if ([条件]) {\n",
        "  [処理B]\n",
        "}\n",
        "[処理C]\n",
        "```\n",
        "\n",
        "![](http://www.plantuml.com/plantuml/png/SoWkIImgAStDuIhEpimhI2nAp5KepaXCoI_Fp4jNI4lCAKxbief-shxi-OGsnrXhhimq1OtePtCNFjczBLPJ8RDOGIEag3HLKw4a8pKFhj09g30rBoKp3IxY31Hn00e1BG80)\n",
        "\n",
        "##### `if-else` 文\n",
        "\n",
        "- もし`[条件]`を満足していたら `[処理A]` に記述された処理を実行する．そうでなければ（`[条件]`を満たしていないならば）`[処理B]`に記述された処理を実行する．\n",
        "\n",
        "```\n",
        "[処理A]\n",
        "if ([条件]) {\n",
        "  [処理B]\n",
        "} else {\n",
        "  [処理C]\n",
        "}\n",
        "[処理D]\n",
        "```\n",
        "\n",
        "![](http://www.plantuml.com/plantuml/png/SoWkIImgAStDuIhEpimhI2nAp5KepaXCoI_Fp4jNI4lCAKxbief-shxi-OGsnrXhhimq1OtePtCNFjczBLPJ8RDOGIEag3HLKw4a8pKFhj09g30Lg5D1mmraW2PSmXaaaPUIcGONSG6AE025W2u00000)\n",
        "\n",
        "※if文に到達した時点で`[条件]`をチェックすることに注意（次の繰り返しで重要になる）\n"
      ]
    },
    {
      "cell_type": "markdown",
      "metadata": {
        "id": "OTbcHBd_d3JX"
      },
      "source": [
        "### Exercise 5-1\n",
        "\n",
        "- 条件分岐処理を実行してみる\n",
        "- ex51.c の a の値を変えて何回か実行してみよう\n",
        "\n",
        "![](http://www.plantuml.com/plantuml/png/SoWkIImgAStDuIhEpimhI2nAp5KepaXCoI_Fp4jNI4lCAKxb0YlXiagqDJImvifCKz18LB1JC3JGLCWiLj08AIfDrLGeoKZDux8gAChCAqdJK4fytBZUqE1nKyVZfgwdIvO_RknztDZok178c1aJawUaQMtDbGeqM4733MI-9hh69xkNFjdHZQO-BoKp3UYI_08k1o0Rw600)"
      ]
    },
    {
      "cell_type": "code",
      "metadata": {
        "colab": {
          "base_uri": "https://localhost:8080/"
        },
        "id": "VtsfoYeWeCFd",
        "outputId": "5c83e31a-4e14-4afb-e0c1-e7dd053c1e7b"
      },
      "source": [
        "%%writefile ex51.c\n",
        "\n",
        "#include <stdio.h>\n",
        "\n",
        "int main() {\n",
        "    int a = 10; // aを初期化する値をいろいろ変えてみよう\n",
        "\n",
        "    if (a > 10) {\n",
        "        printf(\"aは10より大きいです\\n\");\n",
        "    } else {\n",
        "        printf(\"aは10以下です\\n\");\n",
        "    }\n",
        "}\n"
      ],
      "execution_count": 37,
      "outputs": [
        {
          "output_type": "stream",
          "name": "stdout",
          "text": [
            "Writing ex51.c\n"
          ]
        }
      ]
    },
    {
      "cell_type": "code",
      "metadata": {
        "colab": {
          "base_uri": "https://localhost:8080/"
        },
        "id": "XBTzILI8eiP4",
        "outputId": "53c9c9e2-2608-4ade-e33d-e900724c8ae6"
      },
      "source": [
        "%%bash\n",
        "gcc ex51.c -o ex51 \\\n",
        "  && echo \"compile OK\""
      ],
      "execution_count": 38,
      "outputs": [
        {
          "output_type": "stream",
          "name": "stdout",
          "text": [
            "compile OK\n"
          ]
        }
      ]
    },
    {
      "cell_type": "code",
      "metadata": {
        "colab": {
          "base_uri": "https://localhost:8080/"
        },
        "id": "kS-HeFOuemWl",
        "outputId": "44841615-ca2d-4290-8c74-d64160f1ab82"
      },
      "source": [
        "%%bash\n",
        "./ex51"
      ],
      "execution_count": 39,
      "outputs": [
        {
          "output_type": "stream",
          "name": "stdout",
          "text": [
            "aは10以下です\n"
          ]
        }
      ]
    },
    {
      "cell_type": "markdown",
      "metadata": {
        "id": "BJ76i_GAeovQ"
      },
      "source": [
        "# Lesson 6: 繰り返し\n",
        "\n",
        "### 解説\n",
        "\n",
        "- 条件を満たしている間一連の処理を繰り返す\n",
        "\n",
        "### なぜ必要？\n",
        "\n",
        "- 「壁にぶつかるまでずっと歩きなさい」など，ある条件を満たすまで同じ処理を継続するようなことがある\n",
        "- 「学生番号1番から10番まで出席をとりなさい」など，一定の範囲で「同じような処理」を行う場合がある\n",
        "\n",
        "### C言語での記述\n",
        "\n",
        "##### `for`文\n",
        "\n",
        "```\n",
        "[処理A]\n",
        "for ([処理B]; [条件]; [処理C]) {\n",
        "  [処理D]\n",
        "}\n",
        "[処理E]\n",
        "```\n",
        "\n",
        "![](http://www.plantuml.com/plantuml/png/SoWkIImgAStDuIhEpimhI2nAp5KepaXCoI_Fp4jNI4lCAKxbief-shxi-OGsnrXhEDi9o2xFoCn9LT28VZPtuPFTss8r5JAB5JH2YafJDRaK560ANO0A4Jnd82yrBmMgqmral2RSJ5UWf0DG5kWQ0000)\n",
        "\n",
        "##### `while` 文\n",
        "\n",
        "```\n",
        "[処理A]\n",
        "while ([条件]) {\n",
        "  [処理B]\n",
        "}\n",
        "[処理C]\n",
        "```\n",
        "\n",
        "![](http://www.plantuml.com/plantuml/png/SoWkIImgAStDuIhEpimhI2nAp5KepaXCoI_Fp4jNI4lCAKxbief-shxi-OGsnrXhhlACp9nK1OtePtCNFjczBLPJ8RDOGIEag3HLaqj10QRG2QWmDIy5gjODP8Wct1HdeAG3K1Pe9m00)\n",
        "\n",
        "##### `do-while`文\n",
        "\n",
        "```\n",
        "[処理A]\n",
        "do {\n",
        "  [処理B]\n",
        "} while ([条件]);\n",
        "[処理C]\n",
        "```\n",
        "![](http://www.plantuml.com/plantuml/png/SoWkIImgAStDuIhEpimhI2nAp5KepaXCoI_Fp4jNI4lCAKxbief-shxi-OGsnrXhhgBKWjJ44Yu51PYW4rnGeJmZCoTLGIFwsTo5JtPlYzLKo2nMq0WfAatLX1lX35Jja9gN0hGG0000)\n",
        "\n",
        "##### 使い分け\n",
        "\n",
        "- `for`文: 回数が決まった単純な繰り返しに利用．例: 配列の要素を順番に処理する場合など\n",
        "- `while`文: 回数が決まっていない繰り返しに利用．例: 数値がある条件を満たすまで計算を続けるなど\n",
        "- `do-while`文: 状況によっては使うが利用頻度は極めて低い（言語によっては同様な処理がない）．`do-while`が使えるケースは`continue`, `break` による制御の方が可読性が高くなることがある．\n"
      ]
    },
    {
      "cell_type": "markdown",
      "metadata": {
        "id": "XOGCUfXZplkF"
      },
      "source": [
        "### Exercise 6-1\n",
        "\n",
        "典型的な `for` 文を書いてみよう\n",
        "\n",
        "![](http://www.plantuml.com/plantuml/png/SoWkIImgAStDuIhEpimhI2nAp5KepaXCoI_Fp4jNI4lCAKxb0YlXiihCAr6eiEQogh0riEOgpyZCILNGgB0nDD1Ko2nMq0WfAatLv59Gi2ee0YfCqr2gUDouxcd3aiUDwrLJ7ZSkVzmuCoOcJqb7eKBJ6gIiGblRcYirBmLga1l89asWLVa5N0v0OQ2B0000)"
      ]
    },
    {
      "cell_type": "code",
      "metadata": {
        "colab": {
          "base_uri": "https://localhost:8080/"
        },
        "id": "Sxc6i5Cepy1K",
        "outputId": "97ea309f-5130-4a8c-e020-ec46e6bbec98"
      },
      "source": [
        "%%writefile ex61.c\n",
        "\n",
        "#include <stdio.h>\n",
        "\n",
        "int main() {\n",
        "    int x; // forの中で使う変数\n",
        "\n",
        "    for (x=0; x<10; x++) { // 回数の決まっている繰り返し処理\n",
        "        printf(\"xの値は%dです\\n\", x);\n",
        "    }\n",
        "}"
      ],
      "execution_count": 42,
      "outputs": [
        {
          "output_type": "stream",
          "name": "stdout",
          "text": [
            "Overwriting ex61.c\n"
          ]
        }
      ]
    },
    {
      "cell_type": "code",
      "metadata": {
        "colab": {
          "base_uri": "https://localhost:8080/"
        },
        "id": "_Iu5_H9vqHan",
        "outputId": "ea73a99e-12bd-4aa8-d1ac-62826532a857"
      },
      "source": [
        "%%bash\n",
        "gcc ex61.c -o ex61 \\\n",
        "  && echo \"compile OK\""
      ],
      "execution_count": 43,
      "outputs": [
        {
          "output_type": "stream",
          "name": "stdout",
          "text": [
            "compile OK\n"
          ]
        }
      ]
    },
    {
      "cell_type": "code",
      "metadata": {
        "colab": {
          "base_uri": "https://localhost:8080/"
        },
        "id": "KpYdyLJwqMPX",
        "outputId": "160adb7d-1031-42ee-d25e-2c38ae068d3a"
      },
      "source": [
        "%%bash\n",
        "./ex61"
      ],
      "execution_count": 44,
      "outputs": [
        {
          "output_type": "stream",
          "name": "stdout",
          "text": [
            "xの値は0です\n",
            "xの値は1です\n",
            "xの値は2です\n",
            "xの値は3です\n",
            "xの値は4です\n",
            "xの値は5です\n",
            "xの値は6です\n",
            "xの値は7です\n",
            "xの値は8です\n",
            "xの値は9です\n"
          ]
        }
      ]
    },
    {
      "cell_type": "markdown",
      "metadata": {
        "id": "QLaakBvCqTzN"
      },
      "source": [
        "### Exercise 6-2\n",
        "\n",
        "- `while` 文を使ってみよう\n",
        "- x を y で割ったときの余り x % y を while を使って求めてみる\n",
        "- アイデア\n",
        "  - x から y を引けるだけ引くと　 x - n * y = z （だたし z < y）\n",
        "  - これは x = n * y + z となるので x を y で割ったときの商がn，あまりがzになる．\n",
        "\n",
        "![](http://www.plantuml.com/plantuml/png/SoWkIImgAStDuIhEpimhI2nAp5KepaXCoI_Fp4jNI4lCAKxb0YlXiihCAr6eKB1LiBU6i2kHs5L0TeKrLtb6PawgWaQLdMsbfa9ciO96I55fgYQNWe9LbOAkhKAbDLTgNWfKaHlGRA2SLK4Hq80q3INL58N7JPCKG5JZygUTcnutBdxSEFznuuh7ZRsF6zSzsJlpSLFNuyRrG1KnCNbAEWeLEWgLEWfLcjP01-ONS3a0ZGRw0m00)"
      ]
    },
    {
      "cell_type": "code",
      "metadata": {
        "colab": {
          "base_uri": "https://localhost:8080/"
        },
        "id": "njCHolRqvWGP",
        "outputId": "5ef1b010-5391-4afd-808d-808bf1386a81"
      },
      "source": [
        "%%writefile ex62.c\n",
        "\n",
        "#include <stdio.h>\n",
        "\n",
        "int main() {\n",
        "    int x = 10402;\n",
        "    int y = 17;\n",
        "    int z = x;\n",
        "    while (z >= y) {\n",
        "        z -= y;\n",
        "    }\n",
        "    printf(\"%d を %d で割ったときの余りは %d\\n\", x, y, z);\n",
        "}"
      ],
      "execution_count": 51,
      "outputs": [
        {
          "output_type": "stream",
          "name": "stdout",
          "text": [
            "Overwriting ex62.c\n"
          ]
        }
      ]
    },
    {
      "cell_type": "code",
      "metadata": {
        "colab": {
          "base_uri": "https://localhost:8080/"
        },
        "id": "cXfuCNHfwDUQ",
        "outputId": "79b9ab3d-c91a-467e-b305-e990e76894e7"
      },
      "source": [
        "%%bash\n",
        "gcc ex62.c -o ex62 \\\n",
        "  && echo \"compile OK\""
      ],
      "execution_count": 52,
      "outputs": [
        {
          "output_type": "stream",
          "name": "stdout",
          "text": [
            "compile OK\n"
          ]
        }
      ]
    },
    {
      "cell_type": "code",
      "metadata": {
        "colab": {
          "base_uri": "https://localhost:8080/"
        },
        "id": "b5YidAdbwGA3",
        "outputId": "b0a9a7f6-0e96-451b-9ac0-58dc9270af89"
      },
      "source": [
        "%%bash\n",
        "./ex62"
      ],
      "execution_count": 53,
      "outputs": [
        {
          "output_type": "stream",
          "name": "stdout",
          "text": [
            "10402 を 17 で割ったときの余りは 15\n"
          ]
        }
      ]
    },
    {
      "cell_type": "code",
      "metadata": {
        "id": "o7k3BDiUyKcI"
      },
      "source": [
        ""
      ],
      "execution_count": null,
      "outputs": []
    }
  ]
}